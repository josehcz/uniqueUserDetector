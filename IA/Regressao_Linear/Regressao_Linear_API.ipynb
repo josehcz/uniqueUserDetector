{
  "nbformat": 4,
  "nbformat_minor": 0,
  "metadata": {
    "colab": {
      "name": " Regressao Linear API.ipynb",
      "provenance": [],
      "collapsed_sections": []
    },
    "kernelspec": {
      "name": "python3",
      "display_name": "Python 3"
    },
    "language_info": {
      "name": "python"
    }
  },
  "cells": [
    {
      "cell_type": "code",
      "metadata": {
        "id": "ZmTlIN-JowFN"
      },
      "source": [
        "import pandas as pd\n",
        "import matplotlib.pyplot as plt\n",
        "import numpy as np\n",
        "from sklearn.linear_model import LinearRegression"
      ],
      "execution_count": 2,
      "outputs": []
    },
    {
      "cell_type": "code",
      "metadata": {
        "colab": {
          "base_uri": "https://localhost:8080/",
          "height": 390
        },
        "id": "VOgdqNX68CxW",
        "outputId": "dd9f58a8-3c72-45b2-94c9-1ad18b82a429"
      },
      "source": [
        "dados = pd.read_csv('atividade5-api-ia.csv',delimiter=\";\")\n",
        "dados"
      ],
      "execution_count": 30,
      "outputs": [
        {
          "output_type": "execute_result",
          "data": {
            "text/html": [
              "<div>\n",
              "<style scoped>\n",
              "    .dataframe tbody tr th:only-of-type {\n",
              "        vertical-align: middle;\n",
              "    }\n",
              "\n",
              "    .dataframe tbody tr th {\n",
              "        vertical-align: top;\n",
              "    }\n",
              "\n",
              "    .dataframe thead th {\n",
              "        text-align: right;\n",
              "    }\n",
              "</style>\n",
              "<table border=\"1\" class=\"dataframe\">\n",
              "  <thead>\n",
              "    <tr style=\"text-align: right;\">\n",
              "      <th></th>\n",
              "      <th>Horas_realizadas</th>\n",
              "      <th>Custo_realizado</th>\n",
              "    </tr>\n",
              "  </thead>\n",
              "  <tbody>\n",
              "    <tr>\n",
              "      <th>0</th>\n",
              "      <td>4</td>\n",
              "      <td>65</td>\n",
              "    </tr>\n",
              "    <tr>\n",
              "      <th>1</th>\n",
              "      <td>16</td>\n",
              "      <td>218</td>\n",
              "    </tr>\n",
              "    <tr>\n",
              "      <th>2</th>\n",
              "      <td>12</td>\n",
              "      <td>163</td>\n",
              "    </tr>\n",
              "    <tr>\n",
              "      <th>3</th>\n",
              "      <td>18</td>\n",
              "      <td>491</td>\n",
              "    </tr>\n",
              "    <tr>\n",
              "      <th>4</th>\n",
              "      <td>12</td>\n",
              "      <td>163</td>\n",
              "    </tr>\n",
              "    <tr>\n",
              "      <th>5</th>\n",
              "      <td>24</td>\n",
              "      <td>327</td>\n",
              "    </tr>\n",
              "    <tr>\n",
              "      <th>6</th>\n",
              "      <td>4</td>\n",
              "      <td>119</td>\n",
              "    </tr>\n",
              "    <tr>\n",
              "      <th>7</th>\n",
              "      <td>24</td>\n",
              "      <td>327</td>\n",
              "    </tr>\n",
              "    <tr>\n",
              "      <th>8</th>\n",
              "      <td>4</td>\n",
              "      <td>54</td>\n",
              "    </tr>\n",
              "    <tr>\n",
              "      <th>9</th>\n",
              "      <td>20</td>\n",
              "      <td>272</td>\n",
              "    </tr>\n",
              "    <tr>\n",
              "      <th>10</th>\n",
              "      <td>30</td>\n",
              "      <td>1463</td>\n",
              "    </tr>\n",
              "  </tbody>\n",
              "</table>\n",
              "</div>"
            ],
            "text/plain": [
              "    Horas_realizadas  Custo_realizado\n",
              "0                  4               65\n",
              "1                 16              218\n",
              "2                 12              163\n",
              "3                 18              491\n",
              "4                 12              163\n",
              "5                 24              327\n",
              "6                  4              119\n",
              "7                 24              327\n",
              "8                  4               54\n",
              "9                 20              272\n",
              "10                30             1463"
            ]
          },
          "metadata": {},
          "execution_count": 30
        }
      ]
    },
    {
      "cell_type": "code",
      "metadata": {
        "id": "CvFUvaQZAElr",
        "colab": {
          "base_uri": "https://localhost:8080/"
        },
        "outputId": "0c8d4f98-5308-4e97-8805-4c548542dfbd"
      },
      "source": [
        "x =  []\n",
        "y =  []\n",
        "\n",
        "count = 0\n",
        "for i in dados['Horas_realizadas']:\n",
        "    x.append(i)\n",
        "for i in dados['Custo_realizado']:\n",
        "    y.append(i)\n",
        "\n",
        "x = np.array(x).reshape((-1, 1))\n",
        "\n",
        "print(x)\n",
        "print(y)\n",
        "\n"
      ],
      "execution_count": 31,
      "outputs": [
        {
          "output_type": "stream",
          "name": "stdout",
          "text": [
            "[[ 4]\n",
            " [16]\n",
            " [12]\n",
            " [18]\n",
            " [12]\n",
            " [24]\n",
            " [ 4]\n",
            " [24]\n",
            " [ 4]\n",
            " [20]\n",
            " [30]]\n",
            "[65, 218, 163, 491, 163, 327, 119, 327, 54, 272, 1463]\n"
          ]
        }
      ]
    },
    {
      "cell_type": "code",
      "metadata": {
        "colab": {
          "base_uri": "https://localhost:8080/",
          "height": 279
        },
        "id": "N4x2S19gtIiF",
        "outputId": "c514c853-02f0-4295-f76a-1fd7dc7c0050"
      },
      "source": [
        "# Plotagem do Gráfico de Dispersão dos Dados usados no treinamento\n",
        "plt.scatter(x, y,  color='blue', linewidth=3)\n",
        "plt.plot(x, model.predict(x), color = 'red')\n",
        "plt.xlabel('Horas Trabalhadas')\n",
        "plt.ylabel('Valor da Atividade')\n",
        "plt.show()\n"
      ],
      "execution_count": 52,
      "outputs": [
        {
          "output_type": "display_data",
          "data": {
            "image/png": "[encoded data removed]",
            "text/plain": [
              "<Figure size 432x288 with 1 Axes>"
            ]
          },
          "metadata": {
            "needs_background": "light"
          }
        }
      ]
    },
    {
      "cell_type": "code",
      "metadata": {
        "id": "_g9Ak5sstgHe"
      },
      "source": [
        "# Criação do modelo de Regressão linear\n",
        "model = LinearRegression()\n"
      ],
      "execution_count": 46,
      "outputs": []
    },
    {
      "cell_type": "code",
      "metadata": {
        "colab": {
          "base_uri": "https://localhost:8080/"
        },
        "id": "7gSSwdyNuD7V",
        "outputId": "1db30c68-3fe1-4a10-dd56-80edb80ee7ce"
      },
      "source": [
        "# Treino do modelo com os Dados\n",
        "model.fit(x, y)\n"
      ],
      "execution_count": 47,
      "outputs": [
        {
          "output_type": "execute_result",
          "data": {
            "text/plain": [
              "LinearRegression(copy_X=True, fit_intercept=True, n_jobs=None, normalize=False)"
            ]
          },
          "metadata": {},
          "execution_count": 47
        }
      ]
    },
    {
      "cell_type": "code",
      "metadata": {
        "colab": {
          "base_uri": "https://localhost:8080/"
        },
        "id": "jLI6DqpOuGIW",
        "outputId": "88d59746-3979-4cac-8143-684696450076"
      },
      "source": [
        "# Cálculo do Coeficiente de Determinação R2 (quanto mais próximo de 1, melhor o modelo!)\n",
        "r_sq = model.score(x, y)\n",
        "print('coefficient of determination:', r_sq)\n"
      ],
      "execution_count": 48,
      "outputs": [
        {
          "output_type": "stream",
          "name": "stdout",
          "text": [
            "coefficient of determination: 0.5479314470773886\n"
          ]
        }
      ]
    },
    {
      "cell_type": "code",
      "metadata": {
        "colab": {
          "base_uri": "https://localhost:8080/"
        },
        "id": "lapBPJ8BuR4-",
        "outputId": "6d27f202-f689-4e31-b7e0-6e22791904b7"
      },
      "source": [
        "# Cálculo de MSE (Mean Squared Error)\n",
        "np.mean((model.predict(x)-y)**2)\n"
      ],
      "execution_count": 49,
      "outputs": [
        {
          "output_type": "execute_result",
          "data": {
            "text/plain": [
              "64610.57908184291"
            ]
          },
          "metadata": {},
          "execution_count": 49
        }
      ]
    },
    {
      "cell_type": "code",
      "metadata": {
        "colab": {
          "base_uri": "https://localhost:8080/"
        },
        "id": "s8JP3zusuUCl",
        "outputId": "0b972b58-69ad-4ee2-f07c-00c98b34c5d5"
      },
      "source": [
        "# Admitindo a Equação da Regressão Linear: 𝑓(𝑥) = 𝑏₀ + 𝑏₁𝑥\n",
        "print('b0 ou intercept:', model.intercept_)\n",
        "print('b1 ou coeficiente (slope):', model.coef_)\n"
      ],
      "execution_count": 50,
      "outputs": [
        {
          "output_type": "stream",
          "name": "stdout",
          "text": [
            "b0 ou intercept: -167.5738893925656\n",
            "b1 ou coeficiente (slope): [32.76971895]\n"
          ]
        }
      ]
    },
    {
      "cell_type": "code",
      "metadata": {
        "id": "guSWlW8auYDe",
        "colab": {
          "base_uri": "https://localhost:8080/"
        },
        "outputId": "88114701-bc38-4af2-b087-ec6e11a2ff72"
      },
      "source": [
        "# Para 12h de trabalho em uma certa atividade, qual o valor esperado?\n",
        "x_prev = np.array([[12]])\n",
        "y_prev = model.predict(x_prev)\n",
        "print(\"Valor da Atividade: R$ {0:5.2f}\".format(y_prev[0]))\n"
      ],
      "execution_count": 51,
      "outputs": [
        {
          "output_type": "stream",
          "name": "stdout",
          "text": [
            "Valor da Atividade: R$ 225.66\n"
          ]
        }
      ]
    }
  ]
}