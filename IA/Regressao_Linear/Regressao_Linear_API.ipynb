{
  "nbformat": 4,
  "nbformat_minor": 0,
  "metadata": {
    "colab": {
      "name": " Regressao Linear API.ipynb",
      "provenance": [],
      "collapsed_sections": []
    },
    "kernelspec": {
      "name": "python3",
      "display_name": "Python 3"
    },
    "language_info": {
      "name": "python"
    }
  },
  "cells": [
    {
      "cell_type": "code",
      "metadata": {
        "id": "ZmTlIN-JowFN"
      },
      "source": [
        "import pandas as pd\n",
        "import matplotlib.pyplot as plt\n",
        "import numpy as np\n",
        "from sklearn.linear_model import LinearRegression"
      ],
      "execution_count": 38,
      "outputs": []
    },
    {
      "cell_type": "code",
      "metadata": {
        "colab": {
          "base_uri": "https://localhost:8080/",
          "height": 547
        },
        "id": "VOgdqNX68CxW",
        "outputId": "1da6dd20-2689-4a5e-dc6a-a58d4593fc12"
      },
      "source": [
        "dados = pd.read_csv('dadosDaAPI.csv',delimiter=\";\")\n",
        "dados.head()"
      ],
      "execution_count": 39,
      "outputs": [
        {
          "output_type": "execute_result",
          "data": {
            "text/html": [
              "<div>\n",
              "<style scoped>\n",
              "    .dataframe tbody tr th:only-of-type {\n",
              "        vertical-align: middle;\n",
              "    }\n",
              "\n",
              "    .dataframe tbody tr th {\n",
              "        vertical-align: top;\n",
              "    }\n",
              "\n",
              "    .dataframe thead th {\n",
              "        text-align: right;\n",
              "    }\n",
              "</style>\n",
              "<table border=\"1\" class=\"dataframe\">\n",
              "  <thead>\n",
              "    <tr style=\"text-align: right;\">\n",
              "      <th></th>\n",
              "      <th>cookiesEnabled</th>\n",
              "      <th>deviceMemory</th>\n",
              "      <th>email</th>\n",
              "      <th>hardwareConcurrency</th>\n",
              "      <th>ip</th>\n",
              "      <th>languages</th>\n",
              "      <th>localStorage</th>\n",
              "      <th>nome</th>\n",
              "      <th>password</th>\n",
              "      <th>platform</th>\n",
              "      <th>sessionStorage</th>\n",
              "      <th>telefone</th>\n",
              "      <th>timezone</th>\n",
              "      <th>touchSupport</th>\n",
              "      <th>vendor</th>\n",
              "      <th>vendorFlavors</th>\n",
              "      <th>score</th>\n",
              "      <th>repetition</th>\n",
              "    </tr>\n",
              "  </thead>\n",
              "  <tbody>\n",
              "    <tr>\n",
              "      <th>0</th>\n",
              "      <td>True</td>\n",
              "      <td>8</td>\n",
              "      <td>angelovictor2001@hotmail.com</td>\n",
              "      <td>4</td>\n",
              "      <td>123.456.789.10</td>\n",
              "      <td>pt-BR</td>\n",
              "      <td>True</td>\n",
              "      <td>Ângelo Victor de Lima</td>\n",
              "      <td>Ex1gNerT</td>\n",
              "      <td>Win32</td>\n",
              "      <td>True</td>\n",
              "      <td>12 32217235</td>\n",
              "      <td>America/Sao_Paulo</td>\n",
              "      <td>False</td>\n",
              "      <td>Google Inc.</td>\n",
              "      <td>Chrome</td>\n",
              "      <td>0.89</td>\n",
              "      <td>0</td>\n",
              "    </tr>\n",
              "    <tr>\n",
              "      <th>1</th>\n",
              "      <td>False</td>\n",
              "      <td>4</td>\n",
              "      <td>sandro.toline@gmail.com</td>\n",
              "      <td>4</td>\n",
              "      <td>455.629.968-39</td>\n",
              "      <td>pt-BR</td>\n",
              "      <td>False</td>\n",
              "      <td>Sandro Toline de Oliveira Junior</td>\n",
              "      <td>zD8LZkgD</td>\n",
              "      <td>Win32</td>\n",
              "      <td>True</td>\n",
              "      <td>12 981647080</td>\n",
              "      <td>America/Sao_Paulo</td>\n",
              "      <td>False</td>\n",
              "      <td>Google Inc.</td>\n",
              "      <td>Chrome</td>\n",
              "      <td>0.88</td>\n",
              "      <td>0</td>\n",
              "    </tr>\n",
              "    <tr>\n",
              "      <th>2</th>\n",
              "      <td>False</td>\n",
              "      <td>4</td>\n",
              "      <td>sandro.toline@gmail.com</td>\n",
              "      <td>4</td>\n",
              "      <td>455.629.968-39</td>\n",
              "      <td>pt-BR</td>\n",
              "      <td>False</td>\n",
              "      <td>Sandro Toline de Oliveira Junior</td>\n",
              "      <td>zD8LZkgD</td>\n",
              "      <td>Win32</td>\n",
              "      <td>True</td>\n",
              "      <td>12 981647080</td>\n",
              "      <td>America/Sao_Paulo</td>\n",
              "      <td>False</td>\n",
              "      <td>Google Inc.</td>\n",
              "      <td>Chrome</td>\n",
              "      <td>0.51</td>\n",
              "      <td>1</td>\n",
              "    </tr>\n",
              "    <tr>\n",
              "      <th>3</th>\n",
              "      <td>False</td>\n",
              "      <td>4</td>\n",
              "      <td>sandro.toline@gmail.com</td>\n",
              "      <td>4</td>\n",
              "      <td>455.629.968-39</td>\n",
              "      <td>pt-BR</td>\n",
              "      <td>False</td>\n",
              "      <td>Sandro Toline de Oliveira Junior</td>\n",
              "      <td>zD8LZkgD</td>\n",
              "      <td>Win32</td>\n",
              "      <td>True</td>\n",
              "      <td>13 981647080</td>\n",
              "      <td>America/Sao_Paulo</td>\n",
              "      <td>False</td>\n",
              "      <td>Google Inc.</td>\n",
              "      <td>Chrome</td>\n",
              "      <td>0.40</td>\n",
              "      <td>2</td>\n",
              "    </tr>\n",
              "    <tr>\n",
              "      <th>4</th>\n",
              "      <td>False</td>\n",
              "      <td>4</td>\n",
              "      <td>sandro.toline@gmail.com</td>\n",
              "      <td>4</td>\n",
              "      <td>455.629.968-39</td>\n",
              "      <td>pt-BR</td>\n",
              "      <td>False</td>\n",
              "      <td>Sandro Toline de Oliveira Junior</td>\n",
              "      <td>zD8LZkgD</td>\n",
              "      <td>Win32</td>\n",
              "      <td>True</td>\n",
              "      <td>14 981647080</td>\n",
              "      <td>America/Sao_Paulo</td>\n",
              "      <td>False</td>\n",
              "      <td>Google Inc.</td>\n",
              "      <td>Chrome</td>\n",
              "      <td>0.27</td>\n",
              "      <td>3</td>\n",
              "    </tr>\n",
              "  </tbody>\n",
              "</table>\n",
              "</div>"
            ],
            "text/plain": [
              "  cookiesEnabled  deviceMemory  ... score  repetition\n",
              "0           True             8  ...  0.89           0\n",
              "1          False             4  ...  0.88           0\n",
              "2          False             4  ...  0.51           1\n",
              "3          False             4  ...  0.40           2\n",
              "4          False             4  ...  0.27           3\n",
              "\n",
              "[5 rows x 18 columns]"
            ]
          },
          "metadata": {},
          "execution_count": 39
        }
      ]
    },
    {
      "cell_type": "code",
      "metadata": {
        "id": "CvFUvaQZAElr",
        "colab": {
          "base_uri": "https://localhost:8080/"
        },
        "outputId": "ab3b7213-03f2-46a0-d43a-eac4d1bb4799"
      },
      "source": [
        "x =  []\n",
        "y =  []\n",
        "\n",
        "count = 0\n",
        "for i in dados['repetition']:\n",
        "    x.append(i)\n",
        "for i in dados['score']:\n",
        "    y.append(i)\n",
        "\n",
        "x = np.array(x).reshape((-1, 1))\n",
        "\n",
        "print(x)\n",
        "print(y)\n",
        "\n"
      ],
      "execution_count": 17,
      "outputs": [
        {
          "output_type": "stream",
          "name": "stdout",
          "text": [
            "[[0]\n",
            " [0]\n",
            " [1]\n",
            " [2]\n",
            " [3]\n",
            " [5]\n",
            " [6]\n",
            " [7]\n",
            " [0]\n",
            " [0]\n",
            " [0]\n",
            " [0]\n",
            " [0]\n",
            " [0]\n",
            " [1]\n",
            " [2]\n",
            " [0]\n",
            " [0]]\n",
            "[0.89, 0.88, 0.51, 0.4, 0.27, 0.2, 0.1, 0.01, 0.87, 0.91, 0.89, 0.95, 0.9, 0.93, 0.49, 0.38, 0.95, 0.88]\n"
          ]
        }
      ]
    },
    {
      "cell_type": "code",
      "metadata": {
        "colab": {
          "base_uri": "https://localhost:8080/",
          "height": 283
        },
        "id": "N4x2S19gtIiF",
        "outputId": "0c059787-2dd0-4a56-fb4f-943462031866"
      },
      "source": [
        "# Plotagem do Gráfico de Dispersão dos Dados usados no treinamento\n",
        "plt.scatter(x, y,  color='blue', linewidth=3)\n",
        "plt.plot(x, model.predict(x), color = 'red')\n",
        "plt.xlabel('Repetição de dados')\n",
        "plt.ylabel('Score de usuário único')\n",
        "plt.show()\n"
      ],
      "execution_count": 25,
      "outputs": [
        {
          "output_type": "display_data",
          "data": {
            "image/png": "[encoded data removed]",
            "text/plain": [
              "<Figure size 432x288 with 1 Axes>"
            ]
          },
          "metadata": {
            "needs_background": "light"
          }
        }
      ]
    },
    {
      "cell_type": "code",
      "metadata": {
        "id": "_g9Ak5sstgHe"
      },
      "source": [
        "# Criação do modelo de Regressão linear\n",
        "model = LinearRegression()\n"
      ],
      "execution_count": 32,
      "outputs": []
    },
    {
      "cell_type": "code",
      "metadata": {
        "colab": {
          "base_uri": "https://localhost:8080/"
        },
        "id": "7gSSwdyNuD7V",
        "outputId": "30c36ea7-a168-4861-e6d5-9ba5d9b96952"
      },
      "source": [
        "# Treino do modelo com os Dados\n",
        "model.fit(x, y)\n"
      ],
      "execution_count": 33,
      "outputs": [
        {
          "output_type": "execute_result",
          "data": {
            "text/plain": [
              "LinearRegression(copy_X=True, fit_intercept=True, n_jobs=None, normalize=False)"
            ]
          },
          "metadata": {},
          "execution_count": 33
        }
      ]
    },
    {
      "cell_type": "code",
      "metadata": {
        "colab": {
          "base_uri": "https://localhost:8080/"
        },
        "id": "jLI6DqpOuGIW",
        "outputId": "4a714dcc-3e0e-4ecd-b640-6dfc0c2e8552"
      },
      "source": [
        "# Cálculo do Coeficiente de Determinação R2 (quanto mais próximo de 1, melhor o modelo!)\n",
        "r_sq = model.score(x, y)\n",
        "print('coefficient of determination:', r_sq)\n"
      ],
      "execution_count": 34,
      "outputs": [
        {
          "output_type": "stream",
          "name": "stdout",
          "text": [
            "coefficient of determination: 0.8704020544198188\n"
          ]
        }
      ]
    },
    {
      "cell_type": "code",
      "metadata": {
        "colab": {
          "base_uri": "https://localhost:8080/"
        },
        "id": "lapBPJ8BuR4-",
        "outputId": "2565b2ac-bd59-4cf0-ac7b-76d4f725b002"
      },
      "source": [
        "# Cálculo de MSE (Mean Squared Error)\n",
        "np.mean((model.predict(x)-y)**2)\n"
      ],
      "execution_count": 35,
      "outputs": [
        {
          "output_type": "execute_result",
          "data": {
            "text/plain": [
              "0.013628143963172213"
            ]
          },
          "metadata": {},
          "execution_count": 35
        }
      ]
    },
    {
      "cell_type": "code",
      "metadata": {
        "colab": {
          "base_uri": "https://localhost:8080/"
        },
        "id": "s8JP3zusuUCl",
        "outputId": "04ad4be9-b64b-4442-d592-b3b0c6094ece"
      },
      "source": [
        "# Admitindo a Equação da Regressão Linear: 𝑓(𝑥) = 𝑏₀ + 𝑏₁𝑥\n",
        "print('b0 ou intercept:', model.intercept_)\n",
        "print('b1 ou coeficiente (slope):', model.coef_)\n"
      ],
      "execution_count": 36,
      "outputs": [
        {
          "output_type": "stream",
          "name": "stdout",
          "text": [
            "b0 ou intercept: 0.8385499058380416\n",
            "b1 ou coeficiente (slope): [-0.13644068]\n"
          ]
        }
      ]
    },
    {
      "cell_type": "code",
      "metadata": {
        "id": "guSWlW8auYDe",
        "colab": {
          "base_uri": "https://localhost:8080/"
        },
        "outputId": "5b60e254-d8b8-4840-d2f5-d9d5a0a13b4d"
      },
      "source": [
        "# Para uma conta criada com 4 repetições de dados de outra conta, qual o valor esperado do score?\n",
        "x_prev = np.array([[4]])\n",
        "y_prev = model.predict(x_prev)\n",
        "print(\"Score: {0:5.2f}\".format(y_prev[0]))\n"
      ],
      "execution_count": 42,
      "outputs": [
        {
          "output_type": "stream",
          "name": "stdout",
          "text": [
            "Score:  0.29\n"
          ]
        }
      ]
    }
  ]
}